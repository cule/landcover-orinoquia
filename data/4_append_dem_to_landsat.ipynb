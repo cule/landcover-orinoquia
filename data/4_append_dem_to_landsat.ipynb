{
 "cells": [
  {
   "cell_type": "code",
   "execution_count": 2,
   "metadata": {},
   "outputs": [],
   "source": [
    "from IPython.core.interactiveshell import InteractiveShell\n",
    "InteractiveShell.ast_node_interactivity = 'all'  # default is ‘last_expr’\n",
    "\n",
    "%load_ext autoreload\n",
    "%autoreload 2"
   ]
  },
  {
   "cell_type": "code",
   "execution_count": 3,
   "metadata": {},
   "outputs": [],
   "source": [
    "import sys\n",
    "sys.path.append('/lib/ai4eutils')"
   ]
  },
  {
   "cell_type": "code",
   "execution_count": 4,
   "metadata": {},
   "outputs": [],
   "source": [
    "import json\n",
    "import os\n",
    "\n",
    "from tqdm import tqdm\n",
    "import numpy as np\n",
    "import rasterio\n",
    "from PIL import Image\n",
    "\n",
    "from geospatial.visualization.imagery_visualizer import ImageryVisualizer"
   ]
  },
  {
   "cell_type": "markdown",
   "metadata": {},
   "source": [
    "# Append DEM as a channel to the Landsat scenes and tiles\n",
    "\n",
    "Experiments show that adding the elevation data as an additional channel helped model performance. In this notebook, we append the DEM layer to the Landsat 8 layers, because the Land Cover Mapping tool requires that all input data be stacked together.\n",
    "\n",
    "The DEM layer is the SRTM data.\n",
    "\n",
    "The Landsat scenes are of dtype float64/float32. The DEM data is in int16, but will be normalized and saved as a float when appended."
   ]
  },
  {
   "cell_type": "code",
   "execution_count": null,
   "metadata": {},
   "outputs": [],
   "source": [
    "# Where the blob storage container is mounted. All paths below are specified relative to this\n",
    "container_mnt = '/wcs/mnt/wcs-orinoquia'  \n",
    "\n",
    "datasets = [\n",
    "    {\n",
    "        'input_dir': 'images_sr_median/2013_2014',\n",
    "        'output_dir': 'images_sr_median/2013_2014_dem'\n",
    "    },\n",
    "    {\n",
    "        'input_dir': 'images_sr_median/2019_202004',\n",
    "        'output_dir': 'images_sr_median/2019_202004_dem'\n",
    "    },\n",
    "    {\n",
    "        # we previously already tiled the historical scenes for training; append DEM to them too so that our training\n",
    "        # dataloader can be reused for the interactive tool\n",
    "        'input_dir': 'tiles/full_sr_median_2013_2014/tiles',\n",
    "        'output_dir': 'tiles/full_sr_median_2013_2014/tiles_dem',\n",
    "    }\n",
    "]\n",
    "\n",
    "srtm_path = 'images_srtm/wcs_orinoquia_srtm.tif'\n",
    "\n",
    "\n",
    "elevation_standardization_params = {\n",
    "    # from calculations done in GEE\n",
    "    'mean': 399.78,\n",
    "    'std_dev': 714.78\n",
    "}"
   ]
  },
  {
   "cell_type": "code",
   "execution_count": null,
   "metadata": {
    "scrolled": true
   },
   "outputs": [],
   "source": [
    "elevation_reader = rasterio.open(os.path.join(container_mnt, srtm_path))\n",
    "\n",
    "for d in datasets:\n",
    "    input_dir = os.path.join(container_mnt, d['input_dir'])\n",
    "    output_dir = os.path.join(container_mnt, d['output_dir'])\n",
    "    \n",
    "    os.makedirs(output_dir, exist_ok=True)\n",
    "    \n",
    "    for raster_path in tqdm(os.listdir(input_dir)):\n",
    "        if not raster_path.endswith('.tif'):\n",
    "            continue\n",
    "        \n",
    "        output_path = os.path.join(output_dir, raster_path)\n",
    "        if os.path.exists(output_path):\n",
    "            continue\n",
    "            \n",
    "        print(input_dir, raster_path)\n",
    "        \n",
    "        raster_reader = rasterio.open(os.path.join(input_dir, raster_path))\n",
    "        \n",
    "        # get the window to crop the corresponding scene from the big DEM image\n",
    "        x_min = raster_reader.bounds.left\n",
    "        y_min = raster_reader.bounds.top  # origin is left, top\n",
    "        \n",
    "        # getting the pixel array indices corresponding to points in georeferenced space\n",
    "        row, col = elevation_reader.index(x_min, y_min)\n",
    "\n",
    "        # tile wcs_orinoquia_sr_median_2013_2014-0000000000-0000007424_-72.425_7.671.tif\n",
    "        # top left corner looks up to a negative row index. Clipping to 0 seems to be okay visually\n",
    "        row = max(0, row)\n",
    "        col = max(0, col)\n",
    "        \n",
    "        row_end = row + raster_reader.height  \n",
    "        col_end = col + raster_reader.width \n",
    "        \n",
    "        w = rasterio.windows.Window.from_slices((row, row_end), (col, col_end))\n",
    "        \n",
    "        dem_layer: np.ndarray = elevation_reader.read(1, window=w)  # only 1 band\n",
    "        # standardize the DEM layer\n",
    "        dem_layer = (dem_layer - elevation_standardization_params['mean']) / elevation_standardization_params['std_dev']\n",
    "        dem_layer = np.expand_dims(dem_layer, axis=0)\n",
    "        \n",
    "        # concatenate the dem_layer to the Landsat channels\n",
    "        \n",
    "        landsat_channels = raster_reader.read()  # read all Landsat channels into a numpy array\n",
    "        \n",
    "        # match extent\n",
    "        landsat_width, landsat_height = landsat_channels.shape[1], landsat_channels.shape[2]\n",
    "        dem_width, dem_height = dem_layer.shape[1], dem_layer.shape[2]\n",
    "        min_width = min(landsat_width, dem_width)\n",
    "        min_height = min(landsat_height, dem_height)\n",
    "        \n",
    "        landsat_channels = landsat_channels[:, :min_width, :min_height]\n",
    "        dem_layer = dem_layer[:, :min_width, :min_height]\n",
    "        \n",
    "        stacked = np.concatenate([landsat_channels, dem_layer]).astype(np.float32)\n",
    "        assert stacked.shape[0] == 11\n",
    "        \n",
    "        profile = raster_reader.profile\n",
    "        # driver='COG' does not yet work\n",
    "        profile.update(count = raster_reader.count + 1, dtype=rasterio.float32, compress='lzw', driver='GTiff')  \n",
    "        \n",
    "        with rasterio.open(output_path, 'w', **profile) as dst:\n",
    "            dst.write(stacked)\n",
    "        \n",
    "        raster_reader.close()\n",
    "\n",
    "elevation_reader.close()"
   ]
  },
  {
   "cell_type": "markdown",
   "metadata": {},
   "source": [
    "# Create a .vrt for the scenes and tiles\n",
    "\n",
    "So that the interactive tool can load each as a dataset.\n",
    "\n",
    "```\n",
    "gdalbuildvrt wcs_orinoquia_sr_median_2013_2014_dem.vrt ./wcs_orinoquia_sr_median_2013_2014-*.tif\n",
    "```\n",
    "\n",
    "Create the basemap:\n",
    "```\n",
    "gdal_translate wcs_orinoquia_sr_median_2013_2014_dem.vrt wcs_orinoquia_sr_median_2013_2014_rgb_exp.vrt -of vrt -ot Byte -scale_1 0 3000 -scale_2 0 3000 -scale_3 0 3000 -exponent 0.7 -co PHOTOMETRIC=RGB -b 4 -b 3 -b 2 -colorinterp red,green,blue \n",
    "```\n",
    "\n",
    "The scaling and exponent scaling values are chosen for the Landsat 8 image to look good.\n",
    "\n",
    "\n",
    "```\n",
    "gdal2tiles.py --processes=6 -z 8-13 wcs_orinoquia_sr_median_2013_2014_rgb_exp.vrt basemap_exp07/\n",
    "```"
   ]
  },
  {
   "cell_type": "code",
   "execution_count": null,
   "metadata": {},
   "outputs": [],
   "source": [
    "reader = rasterio.open('/wcs/mnt/wcs-orinoquia/images_sr_median/2013_2014_dem/wcs_orinoquia_sr_median_2013_2014_rgb_exp.vrt')"
   ]
  },
  {
   "cell_type": "code",
   "execution_count": null,
   "metadata": {},
   "outputs": [],
   "source": [
    "reader.shape"
   ]
  },
  {
   "cell_type": "code",
   "execution_count": null,
   "metadata": {},
   "outputs": [],
   "source": [
    "w = rasterio.windows.Window.from_slices((10000, 10000 + 600), (10000, 10000 + 600))"
   ]
  },
  {
   "cell_type": "code",
   "execution_count": null,
   "metadata": {},
   "outputs": [],
   "source": [
    "array = reader.read([1, 2, 3], window=w)"
   ]
  },
  {
   "cell_type": "code",
   "execution_count": null,
   "metadata": {},
   "outputs": [],
   "source": [
    "array.shape\n",
    "array.min()\n",
    "array.max()"
   ]
  },
  {
   "cell_type": "code",
   "execution_count": null,
   "metadata": {},
   "outputs": [],
   "source": [
    "array = array.transpose((1, 2, 0))"
   ]
  },
  {
   "cell_type": "code",
   "execution_count": null,
   "metadata": {},
   "outputs": [],
   "source": [
    "ImageryVisualizer.show_patch(reader, \n",
    "                             window=w,\n",
    "                             bands=[1, 2, 3], \n",
    "                             size=(600, 600),\n",
    "                             band_min=0,\n",
    "                             band_max=256)\n",
    "# (col_off x, row_off y, width delta_x, height delta_y)"
   ]
  },
  {
   "cell_type": "markdown",
   "metadata": {},
   "source": [
    "# Color map to interactive tool format"
   ]
  },
  {
   "cell_type": "code",
   "execution_count": 23,
   "metadata": {},
   "outputs": [],
   "source": [
    "from geospatial.visualization.raster_label_visualizer import RasterLabelVisualizer"
   ]
  },
  {
   "cell_type": "code",
   "execution_count": 24,
   "metadata": {},
   "outputs": [],
   "source": [
    "label_vis = RasterLabelVisualizer('/wcs/pycharm/constants/class_lists/wcs_coarse_label_map.json')"
   ]
  },
  {
   "cell_type": "code",
   "execution_count": 25,
   "metadata": {},
   "outputs": [],
   "source": [
    "classes = label_vis.get_tool_colormap()"
   ]
  },
  {
   "cell_type": "code",
   "execution_count": null,
   "metadata": {},
   "outputs": [],
   "source": []
  }
 ],
 "metadata": {
  "kernelspec": {
   "display_name": "Python [conda env:wcs] *",
   "language": "python",
   "name": "conda-env-wcs-py"
  },
  "language_info": {
   "codemirror_mode": {
    "name": "ipython",
    "version": 3
   },
   "file_extension": ".py",
   "mimetype": "text/x-python",
   "name": "python",
   "nbconvert_exporter": "python",
   "pygments_lexer": "ipython3",
   "version": "3.7.9"
  }
 },
 "nbformat": 4,
 "nbformat_minor": 4
}
