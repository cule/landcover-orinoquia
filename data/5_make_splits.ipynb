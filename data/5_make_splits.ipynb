{
 "cells": [
  {
   "cell_type": "code",
   "execution_count": 1,
   "metadata": {},
   "outputs": [],
   "source": [
    "from IPython.core.interactiveshell import InteractiveShell\n",
    "InteractiveShell.ast_node_interactivity = 'all'  # default is ‘last_expr’\n",
    "\n",
    "%load_ext autoreload\n",
    "%autoreload 2"
   ]
  },
  {
   "cell_type": "code",
   "execution_count": 24,
   "metadata": {},
   "outputs": [],
   "source": [
    "import os\n",
    "import json\n",
    "from random import sample\n",
    "from collections import defaultdict\n",
    "\n",
    "from tqdm import tqdm"
   ]
  },
  {
   "cell_type": "markdown",
   "metadata": {},
   "source": [
    "# Make train and val splits\n",
    "\n",
    "These were made by first placing tiles in the val split so that every class is present there.\n",
    "\n",
    "## Filter out all-empty tiles\n",
    "\n",
    "Some tiles are empty (satellite tile is empty but the labels are valid)... So filtering out files that are below 1MB in size (they are typically 60+MB).\n",
    "\n",
    "Some tiles may not have a valid mask file (because the geom geojson file corresponding to that tile is empty of features - not sure if a Solaris bug), so filtering out those as well."
   ]
  },
  {
   "cell_type": "code",
   "execution_count": 3,
   "metadata": {},
   "outputs": [
    {
     "data": {
      "text/plain": [
       "151"
      ]
     },
     "execution_count": 3,
     "metadata": {},
     "output_type": "execute_result"
    },
    {
     "data": {
      "text/plain": [
       "151"
      ]
     },
     "execution_count": 3,
     "metadata": {},
     "output_type": "execute_result"
    },
    {
     "data": {
      "text/plain": [
       "148"
      ]
     },
     "execution_count": 3,
     "metadata": {},
     "output_type": "execute_result"
    }
   ],
   "source": [
    "data_dir = '/wcs/mnt/wcs-orinoquia/tiles/full_sr_median_2013_2014'\n",
    "assert 'tiles' in os.listdir(data_dir)\n",
    "assert 'tiles_masks' in os.listdir(data_dir)\n",
    "\n",
    "tiles_dir = os.path.join(data_dir, 'tiles')\n",
    "labels_dir = os.path.join(data_dir, 'tiles_labels')\n",
    "masks_dir = os.path.join(data_dir, 'tiles_masks')\n",
    "\n",
    "all_tiles = os.listdir(tiles_dir)\n",
    "len(all_tiles)\n",
    "\n",
    "all_labels = os.listdir(labels_dir)\n",
    "len(all_labels)\n",
    "\n",
    "all_masks = os.listdir(masks_dir)\n",
    "len(all_masks)"
   ]
  },
  {
   "cell_type": "code",
   "execution_count": 4,
   "metadata": {},
   "outputs": [],
   "source": [
    "def get_lon_lat_from_tile_name(tile_name):\n",
    "    parts = tile_name.split('_')\n",
    "    lon_lat = f'_{parts[-2]}_{parts[-1].split(\".tif\")[0]}'\n",
    "    return lon_lat"
   ]
  },
  {
   "cell_type": "code",
   "execution_count": 27,
   "metadata": {},
   "outputs": [
    {
     "name": "stdout",
     "output_type": "stream",
     "text": [
      "Number of masks: 148\n",
      "Number of valid tiles: 148\n"
     ]
    }
   ],
   "source": [
    "valid_tiles_to_lon_lat = {}\n",
    "\n",
    "mask_lon_lat = set([mask_name.split('mask')[1].split('.png')[0] for mask_name in all_masks])\n",
    "print(f'Number of masks: {len(mask_lon_lat)}')\n",
    "\n",
    "for tile_name in all_tiles:\n",
    "    tile_path = os.path.join(tiles_dir, tile_name)\n",
    "    file_size = os.path.getsize(tile_path)  # in bytes\n",
    "    tile_valid = True if file_size > 1000000 else False\n",
    "    \n",
    "    lon_lat = get_lon_lat_from_tile_name(tile_name)\n",
    "    mask_valid = True if lon_lat in mask_lon_lat else False\n",
    "        \n",
    "    if tile_valid and mask_valid:\n",
    "        valid_tiles_to_lon_lat[tile_name] = lon_lat\n",
    "\n",
    "print(f'Number of valid tiles: {len(valid_tiles_to_lon_lat)}')"
   ]
  },
  {
   "cell_type": "code",
   "execution_count": 31,
   "metadata": {},
   "outputs": [],
   "source": [
    "valid_lon_lat_to_tiles = {v: k for k, v in valid_tiles_to_lon_lat.items()}"
   ]
  },
  {
   "cell_type": "markdown",
   "metadata": {},
   "source": [
    "## Understand the class composition of tiles\n",
    "\n",
    "So we can evaluate if all classes are present in both train and val."
   ]
  },
  {
   "cell_type": "code",
   "execution_count": 6,
   "metadata": {},
   "outputs": [
    {
     "data": {
      "text/plain": [
       "'_-72.425_6.054'"
      ]
     },
     "execution_count": 6,
     "metadata": {},
     "output_type": "execute_result"
    }
   ],
   "source": [
    "valid_lon_lat[10]"
   ]
  },
  {
   "cell_type": "code",
   "execution_count": 7,
   "metadata": {},
   "outputs": [
    {
     "name": "stderr",
     "output_type": "stream",
     "text": [
      "100%|██████████| 148/148 [04:09<00:00,  1.68s/it]\n"
     ]
    }
   ],
   "source": [
    "tile_class_area = defaultdict(lambda: defaultdict(int))\n",
    "\n",
    "for lon_lat in tqdm(valid_lon_lat):\n",
    "\n",
    "    label_fp = os.path.join(labels_dir, f'geoms{lon_lat}.geojson')\n",
    "    with open(label_fp) as f:\n",
    "        label_geojson = json.load(f)\n",
    "        \n",
    "    for feature in label_geojson['features']:\n",
    "        props = feature['properties']\n",
    "        tile_class_area[lon_lat][props['Landuse_WC']] += props['AREA_HA']"
   ]
  },
  {
   "cell_type": "code",
   "execution_count": 9,
   "metadata": {},
   "outputs": [
    {
     "data": {
      "text/plain": [
       "defaultdict(int,\n",
       "            {18: 770.1544921381,\n",
       "             11: 72487.11709933847,\n",
       "             14: 104514.49880733789,\n",
       "             17: 170327314.93178856,\n",
       "             10: 1014353.3464021531,\n",
       "             8: 18270269.314165566,\n",
       "             12: 1828028.758876238,\n",
       "             19: 47803.63583881964,\n",
       "             4: 140318.5281077013,\n",
       "             27: 54.7289338492,\n",
       "             9: 1021.719847316,\n",
       "             26: 2100956.364798669,\n",
       "             15: 24782.904267798902,\n",
       "             13: 417.98734431689996,\n",
       "             1: 594.1644210674,\n",
       "             33: 8684.2665485058,\n",
       "             32: 11395.513675939,\n",
       "             30: 3547.8547573881997,\n",
       "             20: 99.0079791595})"
      ]
     },
     "execution_count": 9,
     "metadata": {},
     "output_type": "execute_result"
    }
   ],
   "source": [
    "tile_class_area['_-72.425_6.054']"
   ]
  },
  {
   "cell_type": "markdown",
   "metadata": {},
   "source": [
    "### Is every class present in more than 1 tile?"
   ]
  },
  {
   "cell_type": "code",
   "execution_count": 20,
   "metadata": {},
   "outputs": [],
   "source": [
    "class_on_n_tiles = defaultdict(int)\n",
    "class_to_tiles = defaultdict(set)\n",
    "\n",
    "for tile, clss in tile_class_area.items():\n",
    "    for c in clss:\n",
    "        class_on_n_tiles[c] += 1  # present on this tile\n",
    "        class_to_tiles[c].add(tile)"
   ]
  },
  {
   "cell_type": "code",
   "execution_count": 21,
   "metadata": {},
   "outputs": [
    {
     "data": {
      "text/plain": [
       "[(24, 1),\n",
       " (5, 2),\n",
       " (29, 4),\n",
       " (6, 5),\n",
       " (28, 7),\n",
       " (21, 12),\n",
       " (3, 15),\n",
       " (30, 15),\n",
       " (31, 21),\n",
       " (16, 22),\n",
       " (7, 22),\n",
       " (4, 26),\n",
       " (2, 30),\n",
       " (9, 34),\n",
       " (13, 35),\n",
       " (22, 40),\n",
       " (1, 68),\n",
       " (20, 70),\n",
       " (25, 73),\n",
       " (10, 74),\n",
       " (23, 77),\n",
       " (18, 96),\n",
       " (15, 108),\n",
       " (27, 108),\n",
       " (33, 115),\n",
       " (32, 116),\n",
       " (14, 128),\n",
       " (8, 128),\n",
       " (19, 134),\n",
       " (26, 135),\n",
       " (11, 139),\n",
       " (17, 142),\n",
       " (12, 143)]"
      ]
     },
     "execution_count": 21,
     "metadata": {},
     "output_type": "execute_result"
    }
   ],
   "source": [
    "sorted(class_on_n_tiles.items(), key=lambda x: x[1])"
   ]
  },
  {
   "cell_type": "markdown",
   "metadata": {},
   "source": [
    "```\n",
    "\"24\": \"Glaciers and snow zones\"\n",
    "\"5\": \"Permanent herbaceous crops\"\n",
    "```"
   ]
  },
  {
   "cell_type": "markdown",
   "metadata": {},
   "source": [
    "## Train/val splits\n",
    "\n",
    "First round, place some tiles in val set first so that every class is present there.\n",
    "\n",
    "We won't have a test set right now since the labels are not of the same period of time and is quite noisy."
   ]
  },
  {
   "cell_type": "code",
   "execution_count": 12,
   "metadata": {},
   "outputs": [
    {
     "data": {
      "text/plain": [
       "133"
      ]
     },
     "execution_count": 12,
     "metadata": {},
     "output_type": "execute_result"
    },
    {
     "data": {
      "text/plain": [
       "15"
      ]
     },
     "execution_count": 12,
     "metadata": {},
     "output_type": "execute_result"
    }
   ],
   "source": [
    "train_ratio = 0.9\n",
    "val_ratio = 0.1\n",
    "\n",
    "num_train = round(train_ratio * len(valid_tiles))\n",
    "num_train\n",
    "num_val = len(valid_tiles) - num_train\n",
    "num_val"
   ]
  },
  {
   "cell_type": "code",
   "execution_count": 26,
   "metadata": {},
   "outputs": [
    {
     "data": {
      "text/plain": [
       "'wcs_orinoquia_sr_median_2013_2014-0000007424-0000000000_-73.559_4.593.tif'"
      ]
     },
     "execution_count": 26,
     "metadata": {},
     "output_type": "execute_result"
    }
   ],
   "source": [
    "valid_tiles[0]"
   ]
  },
  {
   "cell_type": "code",
   "execution_count": 67,
   "metadata": {},
   "outputs": [
    {
     "data": {
      "text/plain": [
       "'_-72.425_6.593'"
      ]
     },
     "execution_count": 67,
     "metadata": {},
     "output_type": "execute_result"
    },
    {
     "data": {
      "text/plain": [
       "'_-72.964_4.593'"
      ]
     },
     "execution_count": 67,
     "metadata": {},
     "output_type": "execute_result"
    },
    {
     "data": {
      "text/plain": [
       "'_-73.559_5.132'"
      ]
     },
     "execution_count": 67,
     "metadata": {},
     "output_type": "execute_result"
    },
    {
     "data": {
      "text/plain": [
       "'_-73.559_5.132'"
      ]
     },
     "execution_count": 67,
     "metadata": {},
     "output_type": "execute_result"
    }
   ],
   "source": [
    "val_tiles = set()\n",
    "\n",
    "sampled_lon_lat = list(class_to_tiles[24])[0]\n",
    "sampled_lon_lat\n",
    "val_tiles.add(valid_lon_lat_to_tiles[sampled_lon_lat])\n",
    "\n",
    "sampled_lon_lat = sample(class_to_tiles[5], 1)[0]\n",
    "sampled_lon_lat\n",
    "val_tiles.add(valid_lon_lat_to_tiles[sampled_lon_lat])\n",
    "\n",
    "sampled_lon_lat = sample(class_to_tiles[29], 1)[0]\n",
    "sampled_lon_lat\n",
    "val_tiles.add(valid_lon_lat_to_tiles[sampled_lon_lat])\n",
    "\n",
    "sampled_lon_lat = sample(class_to_tiles[6], 1)[0]\n",
    "sampled_lon_lat\n",
    "val_tiles.add(valid_lon_lat_to_tiles[sampled_lon_lat])"
   ]
  },
  {
   "cell_type": "code",
   "execution_count": 68,
   "metadata": {},
   "outputs": [
    {
     "data": {
      "text/plain": [
       "{'wcs_orinoquia_sr_median_2013_2014-0000000000-0000007424_-72.425_6.593.tif',\n",
       " 'wcs_orinoquia_sr_median_2013_2014-0000007424-0000000000_-73.559_5.132.tif',\n",
       " 'wcs_orinoquia_sr_median_2013_2014-0000007424-0000007424_-72.964_4.593.tif'}"
      ]
     },
     "execution_count": 68,
     "metadata": {},
     "output_type": "execute_result"
    }
   ],
   "source": [
    "val_tiles"
   ]
  },
  {
   "cell_type": "code",
   "execution_count": 69,
   "metadata": {},
   "outputs": [],
   "source": [
    "while len(val_tiles) < num_val:\n",
    "    val_tiles.add(sample(valid_tiles, 1)[0])"
   ]
  },
  {
   "cell_type": "code",
   "execution_count": 72,
   "metadata": {},
   "outputs": [],
   "source": [
    "train_tiles = [i for i in valid_tiles if i not in val_tiles]"
   ]
  },
  {
   "cell_type": "code",
   "execution_count": 73,
   "metadata": {},
   "outputs": [
    {
     "data": {
      "text/plain": [
       "133"
      ]
     },
     "execution_count": 73,
     "metadata": {},
     "output_type": "execute_result"
    },
    {
     "data": {
      "text/plain": [
       "15"
      ]
     },
     "execution_count": 73,
     "metadata": {},
     "output_type": "execute_result"
    }
   ],
   "source": [
    "len(train_tiles)\n",
    "len(val_tiles)"
   ]
  },
  {
   "cell_type": "code",
   "execution_count": 74,
   "metadata": {},
   "outputs": [],
   "source": [
    "train_class_dist = defaultdict(int)\n",
    "val_class_dist = defaultdict(int)\n",
    "\n",
    "for class_dist, tiles_list in ((train_class_dist, train_tiles), (val_class_dist, val_tiles)):\n",
    "    for tile_name in tiles_list:\n",
    "        lon_lat = get_lon_lat_from_tile_name(tile_name)\n",
    "        dist = tile_class_area[lon_lat]\n",
    "        for clss, area in dist.items():\n",
    "            class_dist[clss] += area"
   ]
  },
  {
   "cell_type": "code",
   "execution_count": 75,
   "metadata": {},
   "outputs": [
    {
     "data": {
      "text/plain": [
       "32"
      ]
     },
     "execution_count": 75,
     "metadata": {},
     "output_type": "execute_result"
    },
    {
     "data": {
      "text/plain": [
       "33"
      ]
     },
     "execution_count": 75,
     "metadata": {},
     "output_type": "execute_result"
    }
   ],
   "source": [
    "len(train_class_dist)\n",
    "len(val_class_dist)\n",
    "\n",
    "# re-run sampling cell to re-sample so that 32 classes are in the training set and 33 in the val set"
   ]
  },
  {
   "cell_type": "markdown",
   "metadata": {},
   "source": [
    "Class `0 - Empty of data` and `29 - Label unavailable` are not necessary "
   ]
  },
  {
   "cell_type": "code",
   "execution_count": 76,
   "metadata": {},
   "outputs": [
    {
     "name": "stdout",
     "output_type": "stream",
     "text": [
      "class 0, area in train 0, area in val 0\n",
      "class 1, area in train 24927.542426916276, area in val 5130.82719514284\n",
      "class 2, area in train 39291.47257538113, area in val 7738.48755732441\n",
      "class 3, area in train 3574.8413460291895, area in val 188.2659720052\n",
      "class 4, area in train 2543248.8607051307, area in val 291586.11037356406\n",
      "class 5, area in train 249.79796012100002, area in val 249.79796012100002\n",
      "class 6, area in train 674531.8307268098, area in val 36344.288837693246\n",
      "class 7, area in train 20629826.70601472, area in val 808753.1798519307\n",
      "class 8, area in train 1950658895.3429046, area in val 63419471.60730979\n",
      "class 9, area in train 1876129.0947182847, area in val 430692.6463152589\n",
      "class 10, area in train 6698842.207297214, area in val 918199.4227899172\n",
      "class 11, area in train 4366431.483713221, area in val 1409682.1391754732\n",
      "class 12, area in train 624527103.5586175, area in val 14625673.287193296\n",
      "class 13, area in train 76932.1231358848, area in val 58503.71310796899\n",
      "class 14, area in train 995649.1039795887, area in val 196612.4018953071\n",
      "class 15, area in train 20506486.628150005, area in val 688786.8563109607\n",
      "class 16, area in train 22374963.24101086, area in val 1164944.3153726885\n",
      "class 17, area in train 149921385623.5097, area in val 6801553159.394874\n",
      "class 18, area in train 414630.99173263967, area in val 121008.45360710612\n",
      "class 19, area in train 1002821.824932889, area in val 214805.825410892\n",
      "class 20, area in train 49554.66652497814, area in val 17923.6824586439\n",
      "class 21, area in train 114954.71002058775, area in val 8827.775507403301\n",
      "class 22, area in train 343789.08034349873, area in val 980.0872966365\n",
      "class 23, area in train 35164876.15514581, area in val 443591.5134003807\n",
      "class 24, area in train 0, area in val 13436.5725569006\n",
      "class 25, area in train 492014.76098796166, area in val 17465.792549161302\n",
      "class 26, area in train 38474010.24823147, area in val 2612048.2201089836\n",
      "class 27, area in train 77623.07039731072, area in val 15370.244153731468\n",
      "class 28, area in train 757.4454544863, area in val 6595.694799226\n",
      "class 29, area in train 961.745755804, area in val 484.026843619\n",
      "class 30, area in train 64068.845936714904, area in val 4528.324246919901\n",
      "class 31, area in train 172738.48330384033, area in val 11599.856533544998\n",
      "class 32, area in train 16852513.780222066, area in val 1122730.564797557\n",
      "class 33, area in train 10363187.623707687, area in val 1247692.8553222541\n"
     ]
    }
   ],
   "source": [
    "for i in range(34):\n",
    "    print(f'class {i}, area in train {train_class_dist.get(i, 0)}, area in val {val_class_dist.get(i, 0)}')"
   ]
  },
  {
   "cell_type": "markdown",
   "metadata": {},
   "source": [
    "## Save the splits"
   ]
  },
  {
   "cell_type": "code",
   "execution_count": null,
   "metadata": {
    "scrolled": false
   },
   "outputs": [],
   "source": [
    "train_tiles"
   ]
  },
  {
   "cell_type": "code",
   "execution_count": null,
   "metadata": {},
   "outputs": [],
   "source": [
    "val_tiles"
   ]
  },
  {
   "cell_type": "code",
   "execution_count": 81,
   "metadata": {},
   "outputs": [],
   "source": [
    "splits = {\n",
    "    'train': train_tiles,\n",
    "    'val': list(val_tiles)\n",
    "}"
   ]
  },
  {
   "cell_type": "code",
   "execution_count": 82,
   "metadata": {},
   "outputs": [],
   "source": [
    "with open('/wcs/pycharm/wildlife-conservation-society.orinoquia-land-use/constants/splits/full_sr_median_2013_2014_splits.json', 'w') as f:\n",
    "    json.dump(splits, f, indent=2)"
   ]
  },
  {
   "cell_type": "code",
   "execution_count": null,
   "metadata": {},
   "outputs": [],
   "source": []
  }
 ],
 "metadata": {
  "kernelspec": {
   "display_name": "Python [conda env:wcs] *",
   "language": "python",
   "name": "conda-env-wcs-py"
  },
  "language_info": {
   "codemirror_mode": {
    "name": "ipython",
    "version": 3
   },
   "file_extension": ".py",
   "mimetype": "text/x-python",
   "name": "python",
   "nbconvert_exporter": "python",
   "pygments_lexer": "ipython3",
   "version": "3.7.9"
  }
 },
 "nbformat": 4,
 "nbformat_minor": 2
}
