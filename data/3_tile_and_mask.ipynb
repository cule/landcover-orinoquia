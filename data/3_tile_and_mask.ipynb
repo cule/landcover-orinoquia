{
 "cells": [
  {
   "cell_type": "markdown",
   "metadata": {},
   "source": [
    "Use the `solaris` conda environment to run this notebook (use `environment-solaris.yml` to set up this environment).\n",
    "\n",
    "`solaris` commit `7c2940f0a274c76388cb59694f415ac8906e1b92` (repo: https://github.com/CosmiQ/solaris)"
   ]
  },
  {
   "cell_type": "code",
   "execution_count": 1,
   "metadata": {},
   "outputs": [],
   "source": [
    "from IPython.core.interactiveshell import InteractiveShell\n",
    "InteractiveShell.ast_node_interactivity = 'all'  # default is ‘last_expr’\n",
    "\n",
    "%load_ext autoreload\n",
    "%autoreload 2"
   ]
  },
  {
   "cell_type": "code",
   "execution_count": 2,
   "metadata": {},
   "outputs": [],
   "source": [
    "import sys\n",
    "\n",
    "sys.path.append('path_to/solaris')"
   ]
  },
  {
   "cell_type": "code",
   "execution_count": 47,
   "metadata": {},
   "outputs": [],
   "source": [
    "import os\n",
    "import pickle\n",
    "\n",
    "from tqdm import tqdm\n",
    "import rasterio\n",
    "import geopandas as gpd\n",
    "from shapely.geometry import box\n",
    "\n",
    "import solaris as sol\n",
    "from solaris.data import data_dir"
   ]
  },
  {
   "cell_type": "markdown",
   "metadata": {},
   "source": [
    "When there's a PIL import error, import again seems to make it go away..."
   ]
  },
  {
   "cell_type": "code",
   "execution_count": 5,
   "metadata": {},
   "outputs": [
    {
     "data": {
      "text/plain": [
       "'0.2.1'"
      ]
     },
     "execution_count": 5,
     "metadata": {},
     "output_type": "execute_result"
    }
   ],
   "source": [
    "sol.__version__"
   ]
  },
  {
   "cell_type": "markdown",
   "metadata": {},
   "source": [
    "# Tiling images/labels and creating label masks\n",
    "\n",
    "Solaris package documentation: https://solaris.readthedocs.io/en/latest/"
   ]
  },
  {
   "cell_type": "code",
   "execution_count": 6,
   "metadata": {},
   "outputs": [],
   "source": [
    "out_dir = '/data/WCS_land_use/train_200218'\n",
    "\n",
    "label_path = '/data/WCS_land_use/Landuse_shape/derived/landuse.shp'\n",
    "\n",
    "img_path = '/data/WCS_land_use/Imagery/wcs_orinoquia_trial_region_201301_201512.tif'"
   ]
  },
  {
   "cell_type": "markdown",
   "metadata": {},
   "source": [
    "The mini dataset scene is 5423 x 5332 (W x H)"
   ]
  },
  {
   "cell_type": "code",
   "execution_count": 7,
   "metadata": {},
   "outputs": [],
   "source": [
    "tile_size = 2000  # larger than model input size to avoid storing too many small tiles"
   ]
  },
  {
   "cell_type": "code",
   "execution_count": 22,
   "metadata": {},
   "outputs": [],
   "source": [
    "# bounding box of the scene\n",
    "\n",
    "region = rasterio.open(img_path)"
   ]
  },
  {
   "cell_type": "code",
   "execution_count": 30,
   "metadata": {},
   "outputs": [
    {
     "data": {
      "text/plain": [
       "BoundingBox(left=-71.35731526792055, bottom=2.663953975056441, right=-69.8958461321865, top=4.100899103534028)"
      ]
     },
     "execution_count": 30,
     "metadata": {},
     "output_type": "execute_result"
    },
    {
     "data": {
      "text/plain": [
       "2.663953975056441"
      ]
     },
     "execution_count": 30,
     "metadata": {},
     "output_type": "execute_result"
    }
   ],
   "source": [
    "region.bounds\n",
    "region.bounds[1]"
   ]
  },
  {
   "cell_type": "code",
   "execution_count": 34,
   "metadata": {},
   "outputs": [],
   "source": [
    "# box(minx, miny, maxx, maxy)\n",
    "\n",
    "region_polygon = box(*region.bounds)"
   ]
  },
  {
   "cell_type": "code",
   "execution_count": 38,
   "metadata": {},
   "outputs": [],
   "source": [
    "region_polygon_gpd =  gpd.GeoDataFrame(geometry=[region_polygon])"
   ]
  },
  {
   "cell_type": "markdown",
   "metadata": {},
   "source": [
    "## Tiling images\n",
    "\n",
    "`dest_dir` will be created\n",
    "\n",
    "`src_tile_size` is what size on the original raster you want the chips to be. \n",
    "`dest_tile_size` is if you want the resulting chips to be in a different resolution. If not specified, will be the same as input\n",
    "\n",
    "Bounds for each tile is stored in the `raster_tiler.tile_bounds` property, which is later passed to the `VectorTiler` instance."
   ]
  },
  {
   "cell_type": "code",
   "execution_count": 8,
   "metadata": {},
   "outputs": [
    {
     "name": "stdout",
     "output_type": "stream",
     "text": [
      "Initializing Tiler...\n",
      "Tiler initialized.\n",
      "dest_dir: /Users/siyuyang/Source/temp_data/WCS_land_use/train_200218/tiles\n",
      "dest_crs will be inferred from source data.\n",
      "src_tile_size: (2000, 2000)\n",
      "tile size units metric: False\n",
      "Resampling is set to None\n"
     ]
    }
   ],
   "source": [
    "raster_tiler = sol.tile.raster_tile.RasterTiler(dest_dir=os.path.join(out_dir, 'tiles'),  # the directory to save images to\n",
    "                                                src_tile_size=(tile_size, tile_size),\n",
    "                                                verbose=True)"
   ]
  },
  {
   "cell_type": "markdown",
   "metadata": {},
   "source": [
    "EPSG:4326 aka WGS84\n",
    "\n",
    "The following step cuts the tiles and output TIFs with file names in the format \n",
    "\n",
    "`[src-filename]_[longitude]_[latitude].tif`\n",
    "\n",
    "e.g. `wcs_orinoquia_trial_region_201301_201512_-70.818_3.742.tif`"
   ]
  },
  {
   "cell_type": "code",
   "execution_count": 9,
   "metadata": {},
   "outputs": [
    {
     "name": "stderr",
     "output_type": "stream",
     "text": [
      "0it [00:00, ?it/s]The following warnings were found:\n",
      "- The file is greater than 512xH or 512xW, it is recommended to include internal overviews\n",
      "\n"
     ]
    },
    {
     "name": "stdout",
     "output_type": "stream",
     "text": [
      "Beginning tiling...\n",
      "Checking input data...\n",
      "COG: True\n",
      "[1, 2, 3, 4, 5, 6, 7, 8, 9, 10, 11]\n",
      "Source CRS: EPSG:4326\n",
      "Destination CRS: EPSG:4326\n",
      "Inputs OK.\n"
     ]
    },
    {
     "name": "stderr",
     "output_type": "stream",
     "text": [
      "9it [00:49,  5.46s/it]"
     ]
    },
    {
     "name": "stdout",
     "output_type": "stream",
     "text": [
      "Tiling complete. Cleaning up...\n",
      "Done. CRS returned for vector tiling.\n"
     ]
    },
    {
     "name": "stderr",
     "output_type": "stream",
     "text": [
      "\n"
     ]
    },
    {
     "data": {
      "text/plain": [
       "CRS.from_epsg(4326)"
      ]
     },
     "execution_count": 9,
     "metadata": {},
     "output_type": "execute_result"
    }
   ],
   "source": [
    "raster_tiler.tile(img_path)"
   ]
  },
  {
   "cell_type": "code",
   "execution_count": 12,
   "metadata": {},
   "outputs": [
    {
     "data": {
      "text/plain": [
       "list"
      ]
     },
     "execution_count": 12,
     "metadata": {},
     "output_type": "execute_result"
    },
    {
     "data": {
      "text/plain": [
       "9"
      ]
     },
     "execution_count": 12,
     "metadata": {},
     "output_type": "execute_result"
    },
    {
     "data": {
      "text/plain": [
       "(-71.35731526792055, 2.663953975056441, -70.81832609744885, 3.2029431455281543)"
      ]
     },
     "execution_count": 12,
     "metadata": {},
     "output_type": "execute_result"
    }
   ],
   "source": [
    "type(raster_tiler.tile_bounds)\n",
    "len(raster_tiler.tile_bounds)\n",
    "raster_tiler.tile_bounds[0]"
   ]
  },
  {
   "cell_type": "code",
   "execution_count": 16,
   "metadata": {},
   "outputs": [],
   "source": [
    "# serialize the bounds so we can start from here\n",
    "with open(os.path.join(out_dir, 'tile_bounds.pickle'), 'wb') as f:\n",
    "    pickle.dump(raster_tiler.tile_bounds, f, protocol=pickle.HIGHEST_PROTOCOL)"
   ]
  },
  {
   "cell_type": "code",
   "execution_count": null,
   "metadata": {},
   "outputs": [],
   "source": [
    "# load as needed\n",
    "# with open(os.path.join(out_dir, 'tile_bounds.pickle'), 'rb') as f:\n",
    "#     tile_bounds = pickle.load(f)"
   ]
  },
  {
   "cell_type": "code",
   "execution_count": 13,
   "metadata": {},
   "outputs": [],
   "source": [
    "tile_paths = [os.path.join(out_dir, 'tiles', p) for p in os.listdir(os.path.join(out_dir, 'tiles'))]"
   ]
  },
  {
   "cell_type": "code",
   "execution_count": 17,
   "metadata": {},
   "outputs": [
    {
     "data": {
      "text/plain": [
       "170.795843"
      ]
     },
     "execution_count": 17,
     "metadata": {},
     "output_type": "execute_result"
    },
    {
     "data": {
      "text/plain": [
       "CRS.from_epsg(4326)"
      ]
     },
     "execution_count": 17,
     "metadata": {},
     "output_type": "execute_result"
    },
    {
     "data": {
      "text/plain": [
       "(2000, 2000)"
      ]
     },
     "execution_count": 17,
     "metadata": {},
     "output_type": "execute_result"
    },
    {
     "data": {
      "text/plain": [
       "11"
      ]
     },
     "execution_count": 17,
     "metadata": {},
     "output_type": "execute_result"
    },
    {
     "data": {
      "text/plain": [
       "BoundingBox(left=-71.35731526792055, bottom=3.202912324611524, right=-70.81829527653221, top=3.7419323159998674)"
      ]
     },
     "execution_count": 17,
     "metadata": {},
     "output_type": "execute_result"
    }
   ],
   "source": [
    "# verify the resulting tile a bit\n",
    "\n",
    "os.path.getsize(tile_paths[0]) / 1000000  # getsize() is in bytes, so convert to MB\n",
    "\n",
    "tile = rasterio.open(tile_paths[0])\n",
    "tile.crs\n",
    "tile.shape\n",
    "tile.count  # number of bands\n",
    "tile.bounds"
   ]
  },
  {
   "cell_type": "code",
   "execution_count": 18,
   "metadata": {},
   "outputs": [
    {
     "name": "stdout",
     "output_type": "stream",
     "text": [
      "Preparing the tiler...\n",
      "Initialization done.\n"
     ]
    }
   ],
   "source": [
    "vector_tiler = sol.tile.vector_tile.VectorTiler(dest_dir=os.path.join(out_dir, 'tiles_labels'),\n",
    "                                                verbose=True)"
   ]
  },
  {
   "cell_type": "markdown",
   "metadata": {},
   "source": [
    "Input `src` to the `vector_tile.tile()` function needs to be a geopandas GeoDataFrame or a GeoJSON. Since our labels come as shape files, we first load them as a GeoDataFrame. "
   ]
  },
  {
   "cell_type": "code",
   "execution_count": 19,
   "metadata": {},
   "outputs": [
    {
     "name": "stdout",
     "output_type": "stream",
     "text": [
      "CPU times: user 52 s, sys: 2.84 s, total: 54.8 s\n",
      "Wall time: 59.5 s\n"
     ]
    }
   ],
   "source": [
    "%%time\n",
    "landuse_shape = gpd.read_file(label_path)"
   ]
  },
  {
   "cell_type": "code",
   "execution_count": 20,
   "metadata": {},
   "outputs": [
    {
     "data": {
      "text/plain": [
       "OBJECTID         int64\n",
       "AREA_HA        float64\n",
       "Landuse          int64\n",
       "Landuse_WC       int64\n",
       "geometry      geometry\n",
       "dtype: object"
      ]
     },
     "execution_count": 20,
     "metadata": {},
     "output_type": "execute_result"
    }
   ],
   "source": [
    "landuse_shape.dtypes"
   ]
  },
  {
   "cell_type": "markdown",
   "metadata": {},
   "source": [
    "Typo here, it's supposed to be `Landuse_WCS`, but is `Landuse_WC` here"
   ]
  },
  {
   "cell_type": "code",
   "execution_count": 40,
   "metadata": {},
   "outputs": [
    {
     "name": "stdout",
     "output_type": "stream",
     "text": [
      "CPU times: user 8.97 s, sys: 549 ms, total: 9.52 s\n",
      "Wall time: 9.6 s\n"
     ]
    }
   ],
   "source": [
    "%%time\n",
    "\n",
    "landuse_shape_exploded = landuse_shape.explode()"
   ]
  },
  {
   "cell_type": "code",
   "execution_count": 41,
   "metadata": {},
   "outputs": [
    {
     "data": {
      "text/plain": [
       "86643"
      ]
     },
     "execution_count": 41,
     "metadata": {},
     "output_type": "execute_result"
    },
    {
     "data": {
      "text/plain": [
       "1514140"
      ]
     },
     "execution_count": 41,
     "metadata": {},
     "output_type": "execute_result"
    }
   ],
   "source": [
    "len(landuse_shape)\n",
    "len(landuse_shape_exploded)"
   ]
  },
  {
   "cell_type": "code",
   "execution_count": 43,
   "metadata": {},
   "outputs": [
    {
     "name": "stdout",
     "output_type": "stream",
     "text": [
      "CPU times: user 2min 48s, sys: 15.8 s, total: 3min 4s\n",
      "Wall time: 3min 12s\n"
     ]
    }
   ],
   "source": [
    "%%time\n",
    "\n",
    "landuse_shape_exploded.geometry = landuse_shape_exploded.geometry.buffer(0)"
   ]
  },
  {
   "cell_type": "markdown",
   "metadata": {},
   "source": [
    "Need to explode the multipolygons / buffer by distance 0 because \n",
    "\n",
    "```TopologyException: Input geom 0 is invalid: Ring Self-intersection at or near point -71.721134404029499 3.4018246278043875 at -71.721134404029499 3.4018246278043875```\n",
    "\n",
    "(self-intersecting polygons have edges crossing each other, in contrast to simple polygons)\n",
    "\n",
    "or\n",
    "\n",
    "```TopologicalError: The operation 'GEOSIntersection_r' could not be performed. Likely cause is invalidity of the geometry <shapely.geometry.multipolygon.MultiPolygon object at 0x162d8f8d0>```\n",
    "\n",
    "\n",
    "Only exploding does not make the shapes valid... Exploding takes about 10 seconds on my laptop; buffer by distance 0 takes about 3.5 minutes.\n",
    "\n",
    "But if you apply `buffer(0)` without first exploding, it takes a super long time (cannot finish). So have to explode first. "
   ]
  },
  {
   "cell_type": "code",
   "execution_count": 44,
   "metadata": {
    "scrolled": false
   },
   "outputs": [
    {
     "name": "stderr",
     "output_type": "stream",
     "text": [
      "\n",
      "0it [00:00, ?it/s]\u001b[A"
     ]
    },
    {
     "name": "stdout",
     "output_type": "stream",
     "text": [
      "Num tiles: 9\n"
     ]
    },
    {
     "name": "stderr",
     "output_type": "stream",
     "text": [
      "\n",
      "1it [02:29, 149.75s/it]\u001b[A\n",
      "2it [02:35, 106.58s/it]\u001b[A\n",
      "3it [03:26, 89.79s/it] \u001b[A\n",
      "4it [03:30, 63.99s/it]\u001b[A\n",
      "5it [03:32, 45.63s/it]\u001b[A\n",
      "6it [03:55, 38.68s/it]\u001b[A\n",
      "7it [03:56, 27.32s/it]\u001b[A\n",
      "8it [03:57, 19.62s/it]\u001b[A\n",
      "9it [04:03, 27.02s/it]\u001b[A\n"
     ]
    }
   ],
   "source": [
    "vector_tiler.tile(landuse_shape_exploded,\n",
    "                  tile_bounds=raster_tiler.tile_bounds)"
   ]
  },
  {
   "cell_type": "markdown",
   "metadata": {},
   "source": [
    "## Creating label masks\n",
    "\n",
    "DataFrame is after exploding and buffering by 0."
   ]
  },
  {
   "cell_type": "code",
   "execution_count": 45,
   "metadata": {},
   "outputs": [],
   "source": [
    "tile_labels_paths = [os.path.join(out_dir, 'tiles_labels', p) for p in os.listdir(os.path.join(out_dir, 'tiles_labels'))]"
   ]
  },
  {
   "cell_type": "code",
   "execution_count": 49,
   "metadata": {},
   "outputs": [],
   "source": [
    "os.mkdir(os.path.join(out_dir, 'tiles_masks'))"
   ]
  },
  {
   "cell_type": "code",
   "execution_count": 50,
   "metadata": {},
   "outputs": [
    {
     "name": "stderr",
     "output_type": "stream",
     "text": [
      "\n",
      "\n",
      "  0%|          | 0/9 [00:00<?, ?it/s]\u001b[A\u001b[A\n",
      "\n",
      " 11%|█         | 1/9 [00:16<02:10, 16.35s/it]\u001b[A\u001b[A\n",
      "\n",
      " 22%|██▏       | 2/9 [00:17<01:22, 11.78s/it]\u001b[A\u001b[A\n",
      "\n",
      " 33%|███▎      | 3/9 [00:20<00:54,  9.10s/it]\u001b[A\u001b[A\n",
      "\n",
      " 44%|████▍     | 4/9 [00:22<00:35,  7.04s/it]\u001b[A\u001b[A\n",
      "\n",
      " 56%|█████▌    | 5/9 [00:25<00:23,  5.92s/it]\u001b[A\u001b[A\n",
      "\n",
      " 67%|██████▋   | 6/9 [00:27<00:14,  4.79s/it]\u001b[A\u001b[A\n",
      "\n",
      " 78%|███████▊  | 7/9 [00:36<00:11,  5.88s/it]\u001b[A\u001b[A\n",
      "\n",
      " 89%|████████▉ | 8/9 [00:36<00:04,  4.26s/it]\u001b[A\u001b[A\n",
      "\n",
      "100%|██████████| 9/9 [00:38<00:00,  4.25s/it]\u001b[A\u001b[A\n"
     ]
    }
   ],
   "source": [
    "im_prefix = img_path.split('/')[-1].split('.tif')[0]\n",
    "\n",
    "for tile_label_path in tqdm(tile_labels_paths):\n",
    "    lon_lat = tile_label_path.split('geoms')[1].split('.geojson')[0]\n",
    "    tile_path = os.path.join(out_dir, 'tiles', im_prefix + lon_lat + '.tif')\n",
    "    \n",
    "    fp_mask = sol.vector.mask.footprint_mask(\n",
    "        df=tile_label_path,\n",
    "        out_file=os.path.join(out_dir, 'tiles_masks', 'mask{}.png'.format(lon_lat)),  # _ included\n",
    "        reference_im=tile_path,\n",
    "        burn_field='Landuse_WC')"
   ]
  }
 ],
 "metadata": {
  "kernelspec": {
   "display_name": "Python [conda env:wcs] *",
   "language": "python",
   "name": "conda-env-wcs-py"
  },
  "language_info": {
   "codemirror_mode": {
    "name": "ipython",
    "version": 3
   },
   "file_extension": ".py",
   "mimetype": "text/x-python",
   "name": "python",
   "nbconvert_exporter": "python",
   "pygments_lexer": "ipython3",
   "version": "3.7.9"
  }
 },
 "nbformat": 4,
 "nbformat_minor": 2
}
